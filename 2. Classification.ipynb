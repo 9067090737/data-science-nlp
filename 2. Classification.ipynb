{
 "cells": [
  {
   "cell_type": "markdown",
   "metadata": {},
   "source": [
    "# Задача классификации в NLP\n",
    "\n",
    "## Виды\n",
    "\n",
    "1. Бинарная классификация: $C = \\{0, 1\\}$ \n",
    "2. Многоклассовая классификация [multiclass classification]: $C = \\{0, ..., K\\}$\n",
    "3. Многотемная классификация [multi-label classification]: $C = \\{0,1\\}^K$\n",
    "\n",
    "\n",
    "* $d \\in D$ – документы\n",
    "* $c \\in C$ – классы \n",
    "\n",
    "## Примеры\n",
    "\n",
    "* Фильтрация спама: $C = \\{spam, ham\\}$ – бинарная классификация\n",
    "* Классификация по тональности: $C =  \\{neutral, positive, negative\\}$ – классификация с тремя классами\n",
    "* Рубрикация: $C \\in \\{религия, праздники, спорт, фестивали, ... \\}$ – классификация на несколько тем\n",
    "* Определение авторства:\n",
    "    * Этим ли автором написан текст: $ C = \\{0, 1\\}$?\n",
    "    * Кем из этих авторов написан текст: $ C = \\{a_1, a_2, a_3, ... \\}$?\n",
    "    * Пол автора: $ C = \\{f, m\\}$\n",
    "    \n",
    "## Методы\n",
    "\n",
    "### По правилам\n",
    "\n",
    "* Если в предложении встречается личное местоимение первого лица и глагол с окончанием женского рода, то пол автора = $f$.\n",
    "* Если доля положительно окрашенных прилагательтельных в отзыве больше доли отрицательно окрашенных прилагательных, то отзыв относится к классу $posititive$.\n",
    "\n",
    "### С использованием алгоритмов машинного обучения \n",
    "\n",
    "$ \\gamma : D \\rightarrow C$ - алгоритм классификации\n",
    "\n",
    "$({D^{train}, C^{train}})$ – обучающее множество \n",
    "\n",
    "$({D^{test}, C^{test}})$ – тестовое множество "
   ]
  },
  {
   "cell_type": "markdown",
   "metadata": {},
   "source": [
    "## Метод наивного Байеса  (Multinomial naive Bayes classifier)\n",
    "\n",
    "Требуется оценить вероятность принадлежности документа $d \\in D$ классу $c \\in C$: $p(c|d)$. Каждый документ –  мешок слов, всего слов $|V|$.\n",
    "\t\n",
    "* $p(c)$ – априорная вероятность класса $c$\n",
    "* $p(c|d)$ – апостериорная вероятность класса $c$\n",
    "* $ p(c|d) = \\frac{p(d|c)p(c)}{p(d)} $\n",
    "\n",
    "\n",
    "В мультиномиальной байесовской модели документ – это последовательность событий. Каждое событие – этослучайный выбор одного слова из мешка слов.К огда мы подсчитываем правдоподобие документа, мы перемножаем вероятности того, что мы достали из мешка те самые слова, которые встретились в документе. \n",
    "\n",
    "Наивное предположение в том, что мы достаём из мешка разные слова независимо друг от друга, т.е. вероятности признаков внутри класса независимы.\n",
    "\n",
    "Получается мультиномиальная генеративная модель, которая учитывает количество повторений каждого слова, но не учитывает порядок этих слов, а также каких слов нетв документе.\n",
    "\n",
    "[Подробнее о различных видах байесовских классификаторов](https://logic.pdmi.ras.ru/~sergey/teaching/mlaptu11/03-classifiers.pdf)."
   ]
  },
  {
   "cell_type": "markdown",
   "metadata": {},
   "source": [
    "# Векторные модели (начало)\n",
    "\n",
    "Векторые представления лингвистических объектов (слов, предложений, текстов) являются одним из основных инструментов, используемых в компьютерной лингвистике. Они применяются во всех задачах, связанных с обработкой естественного языка. \n",
    "\n",
    "* $d \\in D$ – документы\n",
    "* $w \\in V$ – словарь, всего слов |V|\n",
    "\n",
    "* Традиционное представление: одно слово – одна размерность в векторной модели: $\\vec{d_i} = <f_1, ... , f_{|V|}> $\n",
    "* $f$ – компоненты вектора – могут быть:\n",
    "    * 0 и 1\n",
    "    * частотами\n",
    "    * $tf-idf$ весами\n",
    "* С использованием распределенных представлений слов *(word embeddings)*:\n",
    "    * покомпонентное среднее векторов слов, входящих в текст\n",
    "    * покомпонентный максимум векторов слов, входящих в текст\n",
    "* С использованием распределенных представлений текстов *(doc embeddings)*:\n",
    "    * doc2vec\n",
    "    * fastText\n",
    "    * снижение размерности в векторной модели, в т. ч. сингулярное разложение [singular value decomposition, SVD]\n",
    "    \n",
    "    \n",
    "### Виды векторизации\n",
    "\n",
    "* One-hot кодирование\n",
    "* Модель мешка слов\n",
    "* tf-idf\n",
    "* Матрицы совместной встречаемости\n",
    "* Латентно-семантический анализ (LSA)\n",
    "* Латентное размещение Дирихле (LDA)\n",
    "* Распределенное представление слов/документов (embeddings)\n",
    "\n",
    "\n",
    "## Счетные векторные модели\n",
    "\n",
    "\n",
    "### Терм-документная матрица\n",
    "\n",
    "**Терм-документная матрица** — матрица, которая описывает частоту «терминов» (т.е. слов) в коллекции документов. В терм-документной матрице строки соответствуют терминам, а столбцы — документам в коллекции. Что будет в ячейках матрицы зависит от способа векторизации:\n",
    "\n",
    "* 0 и 1 при one-hot encoding\n",
    "* абсолютная/относительная частота при модели мешка слов\n",
    "* tf-idf веса\n",
    "\n",
    "![td_matrix](./img/matrix.png)\n",
    "\n",
    "### One-hot кодирование\n",
    "\n",
    "Самый простой представить слова в векторном виде — проиндексировать их и закодировать векторами, в которых все компоненты будут равны 0, а компонента, соответствующая индексу слова, равна 1. Иначе говоря, мы работаем с матрицей $W$ размерности $k$, где $k$ это число уникальных слов в корпусе, а в рядах и столбцах находятся все эти слова. Мы ставим в ячейку матрицы 1, если слово в строке и колонке совпадает. \n",
    "\n",
    "![OneHot](http://1.bp.blogspot.com/-_c2pVR3A0HQ/VogUStUgFbI/AAAAAAAADQc/6V1M6zmAJmA/s1600/1-hot-vector.png)\n",
    "\n",
    "Такое представление слов называется *one-hot encoding*. Оно может быть иногда полезно, когда мы хотим работать со словами как с категориальными признаками, но не несёт совершенно никакой информации о значении слов. "
   ]
  },
  {
   "cell_type": "markdown",
   "metadata": {},
   "source": [
    "### Мешок слов\n",
    "\n",
    "**Мешок слов** *(bag of words, BoW)* — это векторная модель, где каждый документ или текст выглядит как неупорядоченный набор слов без сведений о связях между ними. Его можно представить в виде матрицы, каждая строка в которой соответствует отдельному документу или тексту, а каждый столбец — определенному слову. Ячейка на пересечении строки и столбца содержит *количество вхождений слова* в соответствующий документ.\n",
    "\n",
    "Это значит, что каждое слово или каждая N-грамма задает свою координату в векторном пространстве и никаких дополнительных признаков – например, порядок слов – не использует. \n",
    "\n",
    "![bow](./img/bow.png)\n"
   ]
  },
  {
   "cell_type": "markdown",
   "metadata": {},
   "source": [
    "## TF-IDF\n",
    "\n",
    "Ещё один способ работы с текстовыми данными — [TF-IDF](https://en.wikipedia.org/wiki/Tf–idf) *(Term Frequency – Inverse Document Frequency)*. Tf-idf — это модификация мешка слов, которая позволяет учитывать «важность» слова в документе. \n",
    "\n",
    "Рассмотрим коллекцию текстов $D$.  Для каждого уникального слова $t$ из документа $d \\in D$ вычислим следующие величины:\n",
    "\n",
    "**1. Term Frequency** – количество вхождений слова в отношении к общему числу слов в тексте:\n",
    "\n",
    "$$\\text{tf}(t, d) = \\frac{n_{td}}{\\sum_{t \\in d} n_{td}},$$\n",
    "\n",
    "где $n_{td}$ — количество вхождений слова $t$ в текст $d$. \n",
    "\n",
    "То есть по сути это мешок слов, только частота здесь не абсолютная, а относительная (нормированная на длину текста).\n",
    "\n",
    "\n",
    "**2. Inverse Document Frequency**\n",
    "\n",
    "$$\\text{idf}(t, D) = \\log \\frac{\\left| D \\right|}{\\left| \\{d\\in D: t \\in d\\} \\right|},$$\n",
    "\n",
    "где $\\left| \\{d\\in D: t \\in d\\} \\right|$ – количество текстов в коллекции, содержащих слово $t$.\n",
    "\n",
    "Значение $\\text{tf}(t, d)$ корректируется для часто встречающихся общеупотребимых слов при помощи значения $\\text{idf}(t, D).$  Если слово встречается в множестве документов, то idf будет близка к 1, а если оно встречается в одном документе или в небольшом количестве документов, то она будет гораздо выше.\n",
    "\n",
    "**3. TF-IDF**\n",
    "\n",
    "Тогда для каждой пары (слово, текст) $(t, d)$ вычислим величину:\n",
    "\n",
    "$\\text{tf-idf}(t,d, D) = \\text{tf}(t, d)\\cdot \\text{idf}(t, D).$\n",
    "\n",
    "Признаковым описанием одного объекта $d \\in D$ будет вектор $\\bigg(\\text{tf-idf}(t,d, D)\\bigg)_{t\\in V}$, где $V$ – словарь всех слов, встречающихся в коллекции $D$.\n",
    "\n",
    "Можно записать формулу расчета tf-idf вот так:\n",
    "\n",
    "\n",
    "<img src=\"./img/tfidf.png\" width=\"400\" align=\"left\">"
   ]
  },
  {
   "cell_type": "markdown",
   "metadata": {},
   "source": [
    "## Совместная встречаемость слов\n",
    "\n",
    "В предыдущих моделях мы никак не учитывали значение слова. Можно ли его как-то закодировать? Здесь к нам приходит на помощь лингвистическая теория, которая называется дистрибутивной гипотезой. Она утверждает, что значение слова определяется его контекстом — иначе говоря, словами, которые встречаются рядом с этим словом в тексте. Область лингвистики, которая занимается вычислением степени семантической близости между словами/текстами и т.п. на основании их распределения (дистрибуции) в больших массивах данных (текстовых корпусах) назвается **дистрибутивной семантикой**.\n",
    "\n",
    "Давайте будет подразумевать под контекстом некоторое число $n$ слева и справа от слова. Это число будем называть *окном*. К примеру, в предложении \"мама мыла раму\" окном размера 1 для слова \"мыла\" будет набор слов (\"мама\", \"раму\").\n",
    "\n",
    "Пусть теперь мы будем ставить в ячейку 1, если слово из *колонки* хоть раз встретилось внутри окна вокруг слова из *строки* во всём корпусе. Такая матрица называется **бинарной матрицей совместной встречаемости**, и она уже что-то говорит о значении слов. Тем не менее, с помощью неё все ещё трудно отличить слова, которые часто встречаются в похожих контекстах. Здесь довольно логичным кажется переход от бинарных значений к собственно количеству появлений слова $w_1$ в контексте слова $w_2$: иначе говоря, сколько раз в корпусе слово \"мыла\" встретилась рядом со словом \"мама\". \n",
    "\n",
    "Допустим, у нас есть следующие предложения:\n",
    "\n",
    "* *Мама мыла раму*\n",
    "* *Мама мыла окно*\n",
    "* *Мама мыла Машу*\n",
    "* *Маша мыла окно*\n",
    "\n",
    "Построим на их основе (небинарную) матрицу совместной встречаемости слов c окном размера 1. В строках и столбцах матрицы — слова из нашего словаря, а на пересечении — количество их употреблений в заданном окне по всему корпусу. В итоге строка, соответствующая тому или иному слову из словаря — это его вектор.\n",
    "\n",
    "w |Мама|мыла|раму|окно|Машу|Маша|\n",
    ":-|:---:|:----:|:----:|:----:|:----:|:----:|\n",
    "**Мама**|0|3|0|0|0|0|\n",
    "**мыла**|3|0|1|2|1|0|\n",
    "**раму**|0|1|0|0|0|0|\n",
    "**окно**|0|2|0|0|0|0|\n",
    "**Машу**|0|1|0|0|0|0|\n",
    "**Маша**|0|1|0|0|0|0|\n",
    "\n",
    "Картинка ниже иллюстрирует, что вектора слов, построенные на основе матрицы совместной встречаемости, будут сходны у слов, которые встречаются в похожих контекстах (в данном случае — food и eat, на которые совсем не похож laptop).\n",
    "\n",
    "![Binary](http://4.bp.blogspot.com/-JHmQeFhqgCU/VogqxZ2UdhI/AAAAAAAADQs/-rJ0QYDn_ws/s1600/distributional.png)\n",
    "\n",
    "\n",
    "### Метрики вероятности совместной встречаемости слов\n",
    "\n",
    "Бинарная и частотная матрицы это самые простые способы получения информации о контексте слова. Они не очень эффективны и не используют информацию о том, насколько характерно для данного документа само употребление слов в контексте.\n",
    "\n",
    "Метрика, которая лучше фиксирует эту информацию, называется PMI (Pointwise Mutual Information): здесь способ посчитать связь между двумя словами это узнать, насколько чаще они встречаются в корпусе вместе, чем если бы мы ожидали, что они появляются случайно. Иначе говоря, это мера того, как часто встречаются две случайные величины $w$ и $c$, по сравнению с тем, что мы ожидали бы, если бы они были независимыми:\n",
    "\n",
    "$$PMI_{w, c} =  \\log_2 \\frac{P(w, c)}{P(w)P(c)}.$$\n",
    "\n",
    "Значения PMI варьируются от -$\\infty$ до $\\infty$. Но отрицательные значения PMI, как правило, ненадежны: они говорят о том, что слова вместе встречаются реже, чем случайно. И если у нас нет очень большого корпуса, то эти редко встречающиеся пары слов будут зашумлять наши данные. По этой причине всегда лучше использовать метрику Positive PMI (сокращённо PPMI), которая заменяет все отрицательные значения PMI на ноль.\n",
    "\n",
    "$$PPMI_{w, c} = \\max(PMI_{w, c}, 0) = PMI_{w, c}^+$$"
   ]
  },
  {
   "cell_type": "markdown",
   "metadata": {},
   "source": [
    "# Задание №1\n",
    "\n",
    "## Определение языка\n",
    "\n",
    "Необходимо решить задачу определения языка на коллекция из 383,108 текстов на 26 языках с помощью наивного байесовского классификатора. Влияет ли способ векторизации на результаты? Сильно ли меняется качество классификации при изменении различных параметров векторизатора и классификатора? Как можно оценить качество работы модели? Необзодимо также визуализировать результаты (например, построить матрицу ошибок).\n",
    "\n",
    "Чтобы класиифицировать тексты, нужно сначала их векторизовать. В `sklearn` реализованы, например, [модель мешка слов](https://scikit-learn.org/stable/modules/generated/sklearn.feature_extraction.text.CountVectorizer.html#sklearn.feature_extraction.text.CountVectorizer) (`CountVectorizer`) и [tf-idf](https://scikit-learn.org/stable/modules/generated/sklearn.feature_extraction.text.TfidfVectorizer.html) (`TfidfVectorizer`).\n",
    "\n",
    "Основные параметры:\n",
    "\n",
    "* lowercase: приводить к нижнему регистру или нет\n",
    "* ngram_range: например, (1, 3) значит, что будут использованы униграммы, биграммы и триграммы\n",
    "* analyzer: ‘word’ (слова), ‘char’ (символы), ‘char_wb’ (символы только внутри границ слова)\n",
    "* tokenizer: можно использовать свой токенизатор, а не встроенный\n",
    "* token_pattern: для встроенного токенизатора можно задать понятие токена в виде регулярки\n",
    "* stop_words: список стоп-слов, по умолчанию None\n",
    "* max_df: максимальная документная частота, от 0.0 до 1.0\n",
    "* min_df: минимальная документная частота, целое число (например, если min_df=5, то будут учитываться только слова, которые встречаются 5 и более раз)\n",
    "\n",
    "### Подготовка данных\n",
    "\n",
    "Для начала посмотрим на [данные](https://www.dropbox.com/s/bybdr0a3fod1j1a/data-lang-id.txt?dl=0). Первая колонка здесь – метка класса (язык), вторая – текст, а разделены они табуляцией."
   ]
  },
  {
   "cell_type": "code",
   "execution_count": 1,
   "metadata": {},
   "outputs": [],
   "source": [
    "from sklearn.feature_extraction.text import *\n",
    "from sklearn.metrics import *\n",
    "from sklearn.pipeline import Pipeline\n",
    "from sklearn.naive_bayes import MultinomialNB\n",
    "from sklearn.linear_model import SGDClassifier, LogisticRegression\n",
    "from sklearn.ensemble import RandomForestClassifier\n",
    "from sklearn.feature_extraction.text import CountVectorizer, TfidfVectorizer"
   ]
  },
  {
   "cell_type": "code",
   "execution_count": 2,
   "metadata": {},
   "outputs": [
    {
     "data": {
      "text/html": [
       "<div>\n",
       "<style scoped>\n",
       "    .dataframe tbody tr th:only-of-type {\n",
       "        vertical-align: middle;\n",
       "    }\n",
       "\n",
       "    .dataframe tbody tr th {\n",
       "        vertical-align: top;\n",
       "    }\n",
       "\n",
       "    .dataframe thead th {\n",
       "        text-align: right;\n",
       "    }\n",
       "</style>\n",
       "<table border=\"1\" class=\"dataframe\">\n",
       "  <thead>\n",
       "    <tr style=\"text-align: right;\">\n",
       "      <th></th>\n",
       "      <th>lang</th>\n",
       "      <th>text</th>\n",
       "    </tr>\n",
       "  </thead>\n",
       "  <tbody>\n",
       "    <tr>\n",
       "      <th>0</th>\n",
       "      <td>ru</td>\n",
       "      <td>Притом же это республиканское устройство бурсы...</td>\n",
       "    </tr>\n",
       "    <tr>\n",
       "      <th>1</th>\n",
       "      <td>ru</td>\n",
       "      <td>Ты упомянул о том, что могло бы привести меня ...</td>\n",
       "    </tr>\n",
       "    <tr>\n",
       "      <th>2</th>\n",
       "      <td>uk</td>\n",
       "      <td>«Отже йому і спиться, і байдуже — хропе собі!....</td>\n",
       "    </tr>\n",
       "    <tr>\n",
       "      <th>3</th>\n",
       "      <td>pl</td>\n",
       "      <td>Kiedy słońce, odchodząc za horyzont, poczęło w...</td>\n",
       "    </tr>\n",
       "    <tr>\n",
       "      <th>4</th>\n",
       "      <td>ru</td>\n",
       "      <td>Странник выудил их всех, всех до единого, и с ...</td>\n",
       "    </tr>\n",
       "  </tbody>\n",
       "</table>\n",
       "</div>"
      ],
      "text/plain": [
       "  lang                                               text\n",
       "0   ru  Притом же это республиканское устройство бурсы...\n",
       "1   ru  Ты упомянул о том, что могло бы привести меня ...\n",
       "2   uk  «Отже йому і спиться, і байдуже — хропе собі!....\n",
       "3   pl  Kiedy słońce, odchodząc za horyzont, poczęło w...\n",
       "4   ru  Странник выудил их всех, всех до единого, и с ..."
      ]
     },
     "execution_count": 2,
     "metadata": {},
     "output_type": "execute_result"
    }
   ],
   "source": [
    "import pandas as pd\n",
    "\n",
    "data = pd.read_csv('./data/data-lang-id.txt', sep='\\t')\n",
    "data.head()"
   ]
  },
  {
   "cell_type": "code",
   "execution_count": 3,
   "metadata": {},
   "outputs": [
    {
     "data": {
      "text/html": [
       "<div>\n",
       "<style scoped>\n",
       "    .dataframe tbody tr th:only-of-type {\n",
       "        vertical-align: middle;\n",
       "    }\n",
       "\n",
       "    .dataframe tbody tr th {\n",
       "        vertical-align: top;\n",
       "    }\n",
       "\n",
       "    .dataframe thead th {\n",
       "        text-align: right;\n",
       "    }\n",
       "</style>\n",
       "<table border=\"1\" class=\"dataframe\">\n",
       "  <thead>\n",
       "    <tr style=\"text-align: right;\">\n",
       "      <th></th>\n",
       "      <th>text</th>\n",
       "    </tr>\n",
       "    <tr>\n",
       "      <th>lang</th>\n",
       "      <th></th>\n",
       "    </tr>\n",
       "  </thead>\n",
       "  <tbody>\n",
       "    <tr>\n",
       "      <th>be</th>\n",
       "      <td>14855</td>\n",
       "    </tr>\n",
       "    <tr>\n",
       "      <th>bg</th>\n",
       "      <td>14880</td>\n",
       "    </tr>\n",
       "    <tr>\n",
       "      <th>cs</th>\n",
       "      <td>1787</td>\n",
       "    </tr>\n",
       "    <tr>\n",
       "      <th>de</th>\n",
       "      <td>17509</td>\n",
       "    </tr>\n",
       "    <tr>\n",
       "      <th>el</th>\n",
       "      <td>223</td>\n",
       "    </tr>\n",
       "    <tr>\n",
       "      <th>en</th>\n",
       "      <td>71581</td>\n",
       "    </tr>\n",
       "    <tr>\n",
       "      <th>es</th>\n",
       "      <td>767</td>\n",
       "    </tr>\n",
       "    <tr>\n",
       "      <th>fr</th>\n",
       "      <td>9354</td>\n",
       "    </tr>\n",
       "    <tr>\n",
       "      <th>hr</th>\n",
       "      <td>1734</td>\n",
       "    </tr>\n",
       "    <tr>\n",
       "      <th>hsb</th>\n",
       "      <td>181</td>\n",
       "    </tr>\n",
       "    <tr>\n",
       "      <th>hy</th>\n",
       "      <td>4474</td>\n",
       "    </tr>\n",
       "    <tr>\n",
       "      <th>it</th>\n",
       "      <td>3353</td>\n",
       "    </tr>\n",
       "    <tr>\n",
       "      <th>la</th>\n",
       "      <td>497</td>\n",
       "    </tr>\n",
       "    <tr>\n",
       "      <th>lt</th>\n",
       "      <td>119</td>\n",
       "    </tr>\n",
       "    <tr>\n",
       "      <th>lv</th>\n",
       "      <td>2420</td>\n",
       "    </tr>\n",
       "    <tr>\n",
       "      <th>mk</th>\n",
       "      <td>1788</td>\n",
       "    </tr>\n",
       "    <tr>\n",
       "      <th>nl</th>\n",
       "      <td>2155</td>\n",
       "    </tr>\n",
       "    <tr>\n",
       "      <th>pl</th>\n",
       "      <td>24394</td>\n",
       "    </tr>\n",
       "    <tr>\n",
       "      <th>pt</th>\n",
       "      <td>346</td>\n",
       "    </tr>\n",
       "    <tr>\n",
       "      <th>ro</th>\n",
       "      <td>225</td>\n",
       "    </tr>\n",
       "    <tr>\n",
       "      <th>ru</th>\n",
       "      <td>171728</td>\n",
       "    </tr>\n",
       "    <tr>\n",
       "      <th>sk</th>\n",
       "      <td>1588</td>\n",
       "    </tr>\n",
       "    <tr>\n",
       "      <th>sl</th>\n",
       "      <td>1600</td>\n",
       "    </tr>\n",
       "    <tr>\n",
       "      <th>sr</th>\n",
       "      <td>1704</td>\n",
       "    </tr>\n",
       "    <tr>\n",
       "      <th>sv</th>\n",
       "      <td>339</td>\n",
       "    </tr>\n",
       "    <tr>\n",
       "      <th>uk</th>\n",
       "      <td>33507</td>\n",
       "    </tr>\n",
       "  </tbody>\n",
       "</table>\n",
       "</div>"
      ],
      "text/plain": [
       "        text\n",
       "lang        \n",
       "be     14855\n",
       "bg     14880\n",
       "cs      1787\n",
       "de     17509\n",
       "el       223\n",
       "en     71581\n",
       "es       767\n",
       "fr      9354\n",
       "hr      1734\n",
       "hsb      181\n",
       "hy      4474\n",
       "it      3353\n",
       "la       497\n",
       "lt       119\n",
       "lv      2420\n",
       "mk      1788\n",
       "nl      2155\n",
       "pl     24394\n",
       "pt       346\n",
       "ro       225\n",
       "ru    171728\n",
       "sk      1588\n",
       "sl      1600\n",
       "sr      1704\n",
       "sv       339\n",
       "uk     33507"
      ]
     },
     "execution_count": 3,
     "metadata": {},
     "output_type": "execute_result"
    }
   ],
   "source": [
    "data.groupby('lang').count()"
   ]
  },
  {
   "cell_type": "code",
   "execution_count": 4,
   "metadata": {},
   "outputs": [
    {
     "data": {
      "text/plain": [
       "lang    383111\n",
       "text    383108\n",
       "dtype: int64"
      ]
     },
     "execution_count": 4,
     "metadata": {},
     "output_type": "execute_result"
    }
   ],
   "source": [
    "# что-то не так...\n",
    "data.count()"
   ]
  },
  {
   "cell_type": "code",
   "execution_count": 5,
   "metadata": {},
   "outputs": [
    {
     "data": {
      "text/plain": [
       "lang    383108\n",
       "text    383108\n",
       "dtype: int64"
      ]
     },
     "execution_count": 5,
     "metadata": {},
     "output_type": "execute_result"
    }
   ],
   "source": [
    "# выкинем строки, в которых есть пустые значения\n",
    "# и переназначим индексы\n",
    "\n",
    "data.dropna(inplace=True)\n",
    "data.reset_index(drop=True, inplace=True)\n",
    "data.count()"
   ]
  },
  {
   "cell_type": "markdown",
   "metadata": {},
   "source": [
    "Теперь нужно разбить данные на тренировочную и тестовую выборку. Кажется, они уже перемешаны, но на всякий случай перемешаем их перед разбиением еще раз."
   ]
  },
  {
   "cell_type": "code",
   "execution_count": 6,
   "metadata": {},
   "outputs": [
    {
     "data": {
      "text/html": [
       "<div>\n",
       "<style scoped>\n",
       "    .dataframe tbody tr th:only-of-type {\n",
       "        vertical-align: middle;\n",
       "    }\n",
       "\n",
       "    .dataframe tbody tr th {\n",
       "        vertical-align: top;\n",
       "    }\n",
       "\n",
       "    .dataframe thead th {\n",
       "        text-align: right;\n",
       "    }\n",
       "</style>\n",
       "<table border=\"1\" class=\"dataframe\">\n",
       "  <thead>\n",
       "    <tr style=\"text-align: right;\">\n",
       "      <th></th>\n",
       "      <th>lang</th>\n",
       "      <th>text</th>\n",
       "    </tr>\n",
       "  </thead>\n",
       "  <tbody>\n",
       "    <tr>\n",
       "      <th>90774</th>\n",
       "      <td>en</td>\n",
       "      <td>I mounted into the window-seat: gathering up m...</td>\n",
       "    </tr>\n",
       "    <tr>\n",
       "      <th>366579</th>\n",
       "      <td>bg</td>\n",
       "      <td>Сега, когато всичко мина и се свърши и всички ...</td>\n",
       "    </tr>\n",
       "    <tr>\n",
       "      <th>289702</th>\n",
       "      <td>uk</td>\n",
       "      <td>Але й вона колись згине, і довго буде вона кон...</td>\n",
       "    </tr>\n",
       "    <tr>\n",
       "      <th>18802</th>\n",
       "      <td>en</td>\n",
       "      <td>Now she dropped it. They'll never see him,\" sh...</td>\n",
       "    </tr>\n",
       "    <tr>\n",
       "      <th>282039</th>\n",
       "      <td>uk</td>\n",
       "      <td>Відчуття ваги, обмеженість горизонту… А тут — ...</td>\n",
       "    </tr>\n",
       "  </tbody>\n",
       "</table>\n",
       "</div>"
      ],
      "text/plain": [
       "       lang                                               text\n",
       "90774    en  I mounted into the window-seat: gathering up m...\n",
       "366579   bg  Сега, когато всичко мина и се свърши и всички ...\n",
       "289702   uk  Але й вона колись згине, і довго буде вона кон...\n",
       "18802    en  Now she dropped it. They'll never see him,\" sh...\n",
       "282039   uk  Відчуття ваги, обмеженість горизонту… А тут — ..."
      ]
     },
     "execution_count": 6,
     "metadata": {},
     "output_type": "execute_result"
    }
   ],
   "source": [
    "from sklearn.utils import shuffle\n",
    "from sklearn.model_selection import train_test_split\n",
    "\n",
    "data = shuffle(data)\n",
    "\n",
    "train, test = train_test_split(data, test_size=0.2)\n",
    "train.tail()"
   ]
  },
  {
   "cell_type": "markdown",
   "metadata": {},
   "source": [
    "Векторизуем данные и обучаем классификатор."
   ]
  },
  {
   "cell_type": "code",
   "execution_count": 7,
   "metadata": {
    "scrolled": true
   },
   "outputs": [
    {
     "name": "stdout",
     "output_type": "stream",
     "text": [
      "Wall time: 42 s\n"
     ]
    },
    {
     "data": {
      "text/plain": [
       "Pipeline(memory=None,\n",
       "     steps=[('vect', CountVectorizer(analyzer='word', binary=False, decode_error='strict',\n",
       "        dtype=<class 'numpy.int64'>, encoding='utf-8', input='content',\n",
       "        lowercase=True, max_df=1.0, max_features=None, min_df=1,\n",
       "        ngram_range=(1, 1), preprocessor=None, stop_words=None,\n",
       "        strip_accents=None, token_pattern='(?u)\\\\b\\\\w\\\\w+\\\\b',\n",
       "        tokenizer=None, vocabulary=None)), ('clf', MultinomialNB(alpha=1.0, class_prior=None, fit_prior=True))])"
      ]
     },
     "execution_count": 7,
     "metadata": {},
     "output_type": "execute_result"
    }
   ],
   "source": [
    "vectorizer = CountVectorizer(ngram_range=(1,1))\n",
    "classifier = MultinomialNB()\n",
    "\n",
    "clf = Pipeline([\n",
    "    ('vect', vectorizer),\n",
    "    ('clf', classifier),\n",
    "])\n",
    "\n",
    "%time clf.fit(train.text, train.lang)"
   ]
  },
  {
   "cell_type": "markdown",
   "metadata": {},
   "source": [
    "Смотрим показания классификатора на тестовом множестве. "
   ]
  },
  {
   "cell_type": "code",
   "execution_count": 8,
   "metadata": {},
   "outputs": [],
   "source": [
    "predictions = clf.predict(test.text)"
   ]
  },
  {
   "cell_type": "markdown",
   "metadata": {},
   "source": [
    "Оцениваем качество."
   ]
  },
  {
   "cell_type": "code",
   "execution_count": 9,
   "metadata": {},
   "outputs": [
    {
     "name": "stdout",
     "output_type": "stream",
     "text": [
      "Precision:   0.99\n",
      "Recall:   0.99\n",
      "F1-measure:   0.99\n",
      "...\n",
      "Precision:   1.00\n",
      "Recall:   1.00\n",
      "F1-measure:   1.00\n",
      "...\n",
      "Accuracy:   1.00\n"
     ]
    }
   ],
   "source": [
    "# макро-усреднение\n",
    "print(\"Precision: {0:6.2f}\".format(precision_score(test.lang, predictions, average='macro')))\n",
    "print(\"Recall: {0:6.2f}\".format(recall_score(test.lang, predictions, average='macro')))\n",
    "print(\"F1-measure: {0:6.2f}\".format(f1_score(test.lang, predictions, average='macro')))\n",
    "\n",
    "print(\"...\")\n",
    "\n",
    "#микро-усреднение\n",
    "print(\"Precision: {0:6.2f}\".format(precision_score(test.lang, predictions, average='micro')))\n",
    "print(\"Recall: {0:6.2f}\".format(recall_score(test.lang, predictions, average='micro')))\n",
    "print(\"F1-measure: {0:6.2f}\".format(f1_score(test.lang, predictions, average='micro')))\n",
    "\n",
    "print(\"...\")\n",
    "\n",
    "# accuracy\n",
    "print(\"Accuracy: {0:6.2f}\".format(accuracy_score(test.lang, predictions)))"
   ]
  },
  {
   "cell_type": "code",
   "execution_count": 10,
   "metadata": {},
   "outputs": [
    {
     "name": "stdout",
     "output_type": "stream",
     "text": [
      "              precision    recall  f1-score   support\n",
      "\n",
      "          be       1.00      1.00      1.00      2988\n",
      "          bg       1.00      1.00      1.00      3021\n",
      "          cs       1.00      1.00      1.00       367\n",
      "          de       1.00      1.00      1.00      3540\n",
      "          el       1.00      1.00      1.00        48\n",
      "          en       1.00      1.00      1.00     14314\n",
      "          es       1.00      1.00      1.00       168\n",
      "          fr       1.00      1.00      1.00      1817\n",
      "          hr       0.90      1.00      0.95       365\n",
      "         hsb       0.97      1.00      0.99        35\n",
      "          hy       1.00      1.00      1.00       915\n",
      "          it       1.00      1.00      1.00       639\n",
      "          la       1.00      0.99      1.00       104\n",
      "          lt       1.00      1.00      1.00        18\n",
      "          lv       1.00      1.00      1.00       445\n",
      "          mk       1.00      1.00      1.00       353\n",
      "          nl       1.00      1.00      1.00       450\n",
      "          pl       1.00      1.00      1.00      4904\n",
      "          pt       1.00      1.00      1.00        74\n",
      "          ro       1.00      1.00      1.00        43\n",
      "          ru       1.00      1.00      1.00     34220\n",
      "          sk       1.00      1.00      1.00       327\n",
      "          sl       1.00      1.00      1.00       315\n",
      "          sr       1.00      0.87      0.93       335\n",
      "          sv       1.00      1.00      1.00        76\n",
      "          uk       1.00      1.00      1.00      6741\n",
      "\n",
      "   micro avg       1.00      1.00      1.00     76622\n",
      "   macro avg       0.99      0.99      0.99     76622\n",
      "weighted avg       1.00      1.00      1.00     76622\n",
      "\n"
     ]
    }
   ],
   "source": [
    "print(classification_report(test.lang, predictions))"
   ]
  },
  {
   "cell_type": "markdown",
   "metadata": {},
   "source": [
    "Визуализируем результаты (например, в виде матрицы ошибок)."
   ]
  },
  {
   "cell_type": "code",
   "execution_count": 12,
   "metadata": {},
   "outputs": [
    {
     "data": {
      "image/png": "[encoded data removed]",
      "text/plain": [
       "<Figure size 1080x1080 with 1 Axes>"
      ]
     },
     "metadata": {
      "needs_background": "light"
     },
     "output_type": "display_data"
    }
   ],
   "source": [
    "import matplotlib.pyplot as plt\n",
    "import seaborn as sns\n",
    "import numpy as np\n",
    "\n",
    "m = confusion_matrix(test.lang, predictions)\n",
    "\n",
    "labels = clf.classes_\n",
    "plt.figure(figsize = (15,15))\n",
    "sns.heatmap(data=m, annot=True, fmt=\"d\", cbar=False, xticklabels=labels, yticklabels=labels, cmap=\"PuBuGn\")\n",
    "plt.title(\"Confusion matrix\")\n",
    "plt.show()"
   ]
  },
  {
   "cell_type": "markdown",
   "metadata": {},
   "source": [
    "## Важность признаков\n",
    "\n",
    "Веса признаков в линейной модели в случае, если признаки отмасштабированы, характеризуют степень их влияния на значение целевой переменной. В задаче классификации текстов, кроме того, признаки являются хорошо интерпретируемыми, поскольку каждый из них соответствует конкретному слову. Изучим влияние конкретных слов на значение целевой переменной."
   ]
  },
  {
   "cell_type": "code",
   "execution_count": 13,
   "metadata": {},
   "outputs": [
    {
     "name": "stdout",
     "output_type": "stream",
     "text": [
      "не, -4.68\n",
      "на, -4.82\n",
      "што, -5.14\n",
      "ён, -5.54\n",
      "як, -5.68\n",
      "яго, -5.78\n",
      "да, -5.80\n",
      "за, -5.95\n",
      "але, -6.04\n",
      "гэта, -6.12\n",
      "па, -6.14\n",
      "ад, -6.32\n",
      "яна, -6.33\n",
      "было, -6.37\n",
      "калі, -6.44\n",
      "ты, -6.46\n",
      "яе, -6.50\n",
      "так, -6.58\n",
      "каб, -6.63\n",
      "яшчэ, -6.64\n",
      "яны, -6.65\n",
      "толькі, -6.67\n",
      "іх, -6.81\n",
      "быў, -6.84\n",
      "тут, -6.87\n",
      "мяне, -6.88\n",
      "пра, -6.88\n",
      "яму, -6.94\n",
      "сказаў, -6.95\n",
      "...\n",
      "016, -14.49\n",
      "015, -14.49\n",
      "011, -14.49\n",
      "00847, -14.49\n",
      "0083, -14.49\n",
      "00824, -14.49\n",
      "007, -14.49\n",
      "003, -14.49\n",
      "001, -14.49\n"
     ]
    }
   ],
   "source": [
    "f_weights = zip(vectorizer.get_feature_names(), classifier.coef_[0])\n",
    "f_weights = sorted(f_weights, key=lambda i: i[1])\n",
    "for i in range(1,30):\n",
    "    print('%s, %.2f' % f_weights[-i])\n",
    "    \n",
    "print('...')\n",
    "for i in reversed(range(1,10)):\n",
    "    print('%s, %.2f' % f_weights[i])"
   ]
  },
  {
   "cell_type": "markdown",
   "metadata": {},
   "source": [
    "# Задание №2\n",
    "\n",
    "## Классификация новостей по темам\n",
    "\n",
    "Необходимо скачать датасет [20newsgroups](https://scikit-learn.org/0.19/datasets/twenty_newsgroups.html), выбрать несколько тем (не меньше 4, можно и все) и проделать то же самое с ними. В данном случае предсказывать мы будем тему новости, и, поскольку эта задача сложнее, можно сравнить качество при использовании лемматизации и без, при удалении стоп-слов и без, при разных способах векторизации (пока используем только счетные модели). Также необходимо сравнить разные методы классификации (хватит тех, что реализованы в sklearn), т.е. попробовать не только NB, но и логистическую регрессию, случайный лес и т.д."
   ]
  }
 ],
 "metadata": {
  "kernelspec": {
   "display_name": "Python 3",
   "language": "python",
   "name": "python3"
  },
  "language_info": {
   "codemirror_mode": {
    "name": "ipython",
    "version": 3
   },
   "file_extension": ".py",
   "mimetype": "text/x-python",
   "name": "python",
   "nbconvert_exporter": "python",
   "pygments_lexer": "ipython3",
   "version": "3.6.7"
  }
 },
 "nbformat": 4,
 "nbformat_minor": 2
}
